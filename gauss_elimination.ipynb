{
 "cells": [
  {
   "cell_type": "code",
   "execution_count": 19,
   "id": "4591fb23",
   "metadata": {},
   "outputs": [
    {
     "name": "stdout",
     "output_type": "stream",
     "text": [
      "[1. 1. 1. 1.]\n"
     ]
    }
   ],
   "source": [
    "import math\n",
    "import numpy as np\n",
    "#スケーリング\n",
    "def scaling(A,b):\n",
    "    scl = A.max(axis=1) #スケーリング係数を格納\n",
    "    for i in range(n):\n",
    "        A[i] = A[i]/scl[i]#Aとbをそれぞれスケーリング係数で割る\n",
    "        b[i] = b[i]/scl[i]\n",
    "    return A,b\n",
    "\n",
    "#pivot選択（ソート）\n",
    "def pivotting(A,b):\n",
    "    for i in range(n):\n",
    "        choice = np.argmax(np.abs(A[i:,i])) #i行目以上のi列の中で絶対値が最も大きい行のインデックスをargmaxで取得\n",
    "        tempA = A[i + choice].copy() #行交換のために値渡し(.copy())を使って一時退避させる。\n",
    "        tempb = b[i + choice].copy() \n",
    "        A[i + choice] = A[i] #交換を実行\n",
    "        b[i + choice] = b[i]\n",
    "        A[i] = tempA\n",
    "        b[i] = tempb\n",
    "    return A,b\n",
    "           \n",
    "def gauss(A,b):\n",
    "#前進部分\n",
    "   for i in range(n):\n",
    "       pivot = A[i,i]#対角成分を取り出す\n",
    "       A[i] = A[i]/pivot#割って先頭を1にする\n",
    "       b[i] = b[i]/pivot\n",
    "       for j in range (i+1,n):#i+1からnまでgauss消去\n",
    "           k = A[j,i]\n",
    "           A[j] = A[j] - k * A[i]#A[j,i]成分を消去するように引き算\n",
    "           b[j] = b[j] - k * b[i]\n",
    "#後退部分\n",
    "   x = np.zeros(n)#解の容れ物の行列を作る。np.zeros(m,n)ですべて0のm*n行列\n",
    "   for i in reversed(range(n)):#reversedでリストを逆順に並べる\n",
    "       x[i] = b[i]/A[i,i]#下からひとつずつ求めてxに格納\n",
    "       for j in range(i):\n",
    "           b[j] = b[j]-x[i]*A[j,i]#求めたらi-1行目までからそれぞれ引く\n",
    "   return x\n",
    "\n",
    "A = np.array([[10,1,4,0],[1,10,5,-1],[4,5,10,7],[0,-1,7,9]],dtype = float)#np.dtype=float32で単精度になる\n",
    "b = np.array([15,15,26,15],dtype = float)\n",
    "n = len(b)\n",
    "(A,b) = scaling(A,b)\n",
    "(A,b) = pivotting(A,b)\n",
    "x = gauss(A,b)\n",
    "print(x)"
   ]
  }
 ],
 "metadata": {
  "kernelspec": {
   "display_name": "Python 3",
   "language": "python",
   "name": "python3"
  },
  "language_info": {
   "codemirror_mode": {
    "name": "ipython",
    "version": 3
   },
   "file_extension": ".py",
   "mimetype": "text/x-python",
   "name": "python",
   "nbconvert_exporter": "python",
   "pygments_lexer": "ipython3",
   "version": "3.8.8"
  }
 },
 "nbformat": 4,
 "nbformat_minor": 5
}
